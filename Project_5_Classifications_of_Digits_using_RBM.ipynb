{
  "nbformat": 4,
  "nbformat_minor": 0,
  "metadata": {
    "colab": {
      "provenance": [],
      "authorship_tag": "ABX9TyNNd4gw4mzheQas6Pn7Lp8S",
      "include_colab_link": true
    },
    "kernelspec": {
      "name": "python3",
      "display_name": "Python 3"
    },
    "language_info": {
      "name": "python"
    },
    "accelerator": "GPU",
    "gpuClass": "standard"
  },
  "cells": [
    {
      "cell_type": "markdown",
      "metadata": {
        "id": "view-in-github",
        "colab_type": "text"
      },
      "source": [
        "<a href=\"https://colab.research.google.com/github/Aaina26/Deep-Learning-Unschool/blob/main/Project_5_Classifications_of_Digits_using_RBM.ipynb\" target=\"_parent\"><img src=\"https://colab.research.google.com/assets/colab-badge.svg\" alt=\"Open In Colab\"/></a>"
      ]
    },
    {
      "cell_type": "code",
      "execution_count": 2,
      "metadata": {
        "id": "akBSHFVeQ4Vg"
      },
      "outputs": [],
      "source": [
        "import numpy as np\n",
        "import matplotlib.pyplot as plt\n",
        "\n",
        "from scipy.ndimage import convolve\n",
        "from sklearn import linear_model, datasets, metrics #for logistic regression, datasets, evaluation respectively\n",
        "from sklearn.model_selection import train_test_split\n",
        "from sklearn.neural_network import BernoulliRBM\n",
        "from sklearn.pipeline import Pipeline"
      ]
    },
    {
      "cell_type": "code",
      "source": [
        "#load data\n",
        "X, Y=datasets.load_digits(return_X_y=True) #bracket term splits the data into x and y labels\n",
        "X=np.asarray(X, 'float32')\n",
        "X=(X-np.min(X,0))/(np.max(X,0)+0.0001) #0-1 scaling\n"
      ],
      "metadata": {
        "id": "0-QVVBx6ST5J"
      },
      "execution_count": 3,
      "outputs": []
    },
    {
      "cell_type": "code",
      "source": [
        "#split the data\n",
        "x_train, x_test, y_train, y_test=train_test_split(X, Y, test_size=0.2, random_state=0)\n"
      ],
      "metadata": {
        "id": "VFOwV-snVSEm"
      },
      "execution_count": 4,
      "outputs": []
    },
    {
      "cell_type": "code",
      "source": [
        "#Find out the size of data\n",
        "print(\"x_train.shape:\",x_train.shape)\n",
        "print(\"y_train.shape:\",y_train.shape)"
      ],
      "metadata": {
        "colab": {
          "base_uri": "https://localhost:8080/"
        },
        "id": "SXphKALiV3Px",
        "outputId": "ad550a28-5920-43cb-f3a8-9d1b7e85bb17"
      },
      "execution_count": 5,
      "outputs": [
        {
          "output_type": "stream",
          "name": "stdout",
          "text": [
            "x_train.shape: (1437, 64)\n",
            "y_train.shape: (1437,)\n"
          ]
        }
      ]
    },
    {
      "cell_type": "code",
      "source": [
        "#create the models\n",
        "logistic=linear_model.LogisticRegression(solver=\"newton-cg\",tol=1)\n",
        "rbm=BernoulliRBM(random_state=0, verbose=True) #if we want to have more layers,then we can create rbm one after the another and stack them in the pipeline\n",
        "#Create pipeline-RBM followed by logistic\n",
        "rbm_features_classifier=Pipeline(steps=[('rbm',rbm),('logistic',logistic)])"
      ],
      "metadata": {
        "id": "sZZshztTWWbp"
      },
      "execution_count": 6,
      "outputs": []
    },
    {
      "cell_type": "code",
      "source": [
        "#Training\n",
        "#set hyperparameters\n",
        "rbm.learning_rate=0.05\n",
        "rbm.n_iter=20\n",
        "rbm.n_components=100\n",
        "logistic.C=6000\n",
        "\n",
        "r=rbm_features_classifier.fit(x_train,y_train)"
      ],
      "metadata": {
        "colab": {
          "base_uri": "https://localhost:8080/"
        },
        "id": "jWNBRwbQaKBE",
        "outputId": "a79f8d38-f1b3-4af2-c0ee-008822596151"
      },
      "execution_count": 9,
      "outputs": [
        {
          "output_type": "stream",
          "name": "stdout",
          "text": [
            "[BernoulliRBM] Iteration 1, pseudo-likelihood = -27.32, time = 0.03s\n",
            "[BernoulliRBM] Iteration 2, pseudo-likelihood = -26.78, time = 0.05s\n",
            "[BernoulliRBM] Iteration 3, pseudo-likelihood = -26.20, time = 0.06s\n",
            "[BernoulliRBM] Iteration 4, pseudo-likelihood = -25.98, time = 0.06s\n",
            "[BernoulliRBM] Iteration 5, pseudo-likelihood = -24.63, time = 0.07s\n",
            "[BernoulliRBM] Iteration 6, pseudo-likelihood = -24.00, time = 0.06s\n",
            "[BernoulliRBM] Iteration 7, pseudo-likelihood = -23.44, time = 0.06s\n",
            "[BernoulliRBM] Iteration 8, pseudo-likelihood = -23.15, time = 0.05s\n",
            "[BernoulliRBM] Iteration 9, pseudo-likelihood = -22.74, time = 0.06s\n",
            "[BernoulliRBM] Iteration 10, pseudo-likelihood = -22.72, time = 0.05s\n",
            "[BernoulliRBM] Iteration 11, pseudo-likelihood = -22.93, time = 0.05s\n",
            "[BernoulliRBM] Iteration 12, pseudo-likelihood = -22.60, time = 0.07s\n",
            "[BernoulliRBM] Iteration 13, pseudo-likelihood = -22.40, time = 0.06s\n",
            "[BernoulliRBM] Iteration 14, pseudo-likelihood = -22.35, time = 0.06s\n",
            "[BernoulliRBM] Iteration 15, pseudo-likelihood = -22.24, time = 0.07s\n",
            "[BernoulliRBM] Iteration 16, pseudo-likelihood = -21.88, time = 0.09s\n",
            "[BernoulliRBM] Iteration 17, pseudo-likelihood = -21.74, time = 0.08s\n",
            "[BernoulliRBM] Iteration 18, pseudo-likelihood = -21.76, time = 0.09s\n",
            "[BernoulliRBM] Iteration 19, pseudo-likelihood = -21.51, time = 0.06s\n",
            "[BernoulliRBM] Iteration 20, pseudo-likelihood = -21.39, time = 0.09s\n"
          ]
        }
      ]
    },
    {
      "cell_type": "code",
      "source": [
        "#evaluation\n",
        "y_pred=rbm_features_classifier.predict(x_test)\n",
        "print(metrics.classification_report(y_test,y_pred))"
      ],
      "metadata": {
        "colab": {
          "base_uri": "https://localhost:8080/"
        },
        "id": "856mrjaIbdzg",
        "outputId": "91c47810-f589-40f2-aacc-5ee60c138fde"
      },
      "execution_count": 10,
      "outputs": [
        {
          "output_type": "stream",
          "name": "stdout",
          "text": [
            "              precision    recall  f1-score   support\n",
            "\n",
            "           0       1.00      1.00      1.00        27\n",
            "           1       0.91      0.91      0.91        35\n",
            "           2       0.94      0.92      0.93        36\n",
            "           3       0.82      0.93      0.87        29\n",
            "           4       1.00      0.97      0.98        30\n",
            "           5       0.97      0.95      0.96        40\n",
            "           6       0.98      0.98      0.98        44\n",
            "           7       0.93      1.00      0.96        39\n",
            "           8       0.94      0.82      0.88        39\n",
            "           9       0.88      0.90      0.89        41\n",
            "\n",
            "    accuracy                           0.94       360\n",
            "   macro avg       0.94      0.94      0.94       360\n",
            "weighted avg       0.94      0.94      0.94       360\n",
            "\n"
          ]
        }
      ]
    },
    {
      "cell_type": "code",
      "source": [
        "print(metrics.accuracy_score(y_test,y_pred))"
      ],
      "metadata": {
        "colab": {
          "base_uri": "https://localhost:8080/"
        },
        "id": "8Hq3extqcCGD",
        "outputId": "53e13b49-d868-41ff-bb73-13635117a3a4"
      },
      "execution_count": 11,
      "outputs": [
        {
          "output_type": "stream",
          "name": "stdout",
          "text": [
            "0.9361111111111111\n"
          ]
        }
      ]
    },
    {
      "cell_type": "code",
      "source": [],
      "metadata": {
        "id": "WQp7omNvcZZt"
      },
      "execution_count": null,
      "outputs": []
    }
  ]
}