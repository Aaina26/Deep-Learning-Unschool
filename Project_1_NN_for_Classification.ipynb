{
  "nbformat": 4,
  "nbformat_minor": 0,
  "metadata": {
    "colab": {
      "provenance": [],
      "authorship_tag": "ABX9TyOPJTgWZyy/TQVluz9jH//r",
      "include_colab_link": true
    },
    "kernelspec": {
      "name": "python3",
      "display_name": "Python 3"
    },
    "language_info": {
      "name": "python"
    },
    "accelerator": "GPU",
    "gpuClass": "standard"
  },
  "cells": [
    {
      "cell_type": "markdown",
      "metadata": {
        "id": "view-in-github",
        "colab_type": "text"
      },
      "source": [
        "<a href=\"https://colab.research.google.com/github/Aaina26/Deep-Learning-Unschool/blob/main/Project_1_NN_for_Classification.ipynb\" target=\"_parent\"><img src=\"https://colab.research.google.com/assets/colab-badge.svg\" alt=\"Open In Colab\"/></a>"
      ]
    },
    {
      "cell_type": "code",
      "execution_count": null,
      "metadata": {
        "id": "ew8_pi_8Ghgw"
      },
      "outputs": [],
      "source": [
        "import tensorflow as tf #import lib"
      ]
    },
    {
      "cell_type": "code",
      "source": [
        "#for loading data\n",
        "mnist=tf.keras.datasets.mnist\n",
        "(xtrain,ytrain),(xtest,ytest)=mnist.load_data()\n",
        "xtrain, xtest=xtrain/255.0,xtest/255.0"
      ],
      "metadata": {
        "id": "jrPlsL7aQj9z",
        "colab": {
          "base_uri": "https://localhost:8080/"
        },
        "outputId": "0d475e92-457b-44f2-9cbf-69ee6b072723"
      },
      "execution_count": null,
      "outputs": [
        {
          "output_type": "stream",
          "name": "stdout",
          "text": [
            "Downloading data from https://storage.googleapis.com/tensorflow/tf-keras-datasets/mnist.npz\n",
            "11490434/11490434 [==============================] - 1s 0us/step\n"
          ]
        }
      ]
    },
    {
      "cell_type": "code",
      "source": [
        "print(\"xtrain.shape:\",xtrain.shape)#print shape of xtrain"
      ],
      "metadata": {
        "colab": {
          "base_uri": "https://localhost:8080/"
        },
        "id": "3x8rj7TsRTRP",
        "outputId": "6dccff09-d4de-4eb2-a57b-6f4ee5e3060c"
      },
      "execution_count": null,
      "outputs": [
        {
          "output_type": "stream",
          "name": "stdout",
          "text": [
            "xtrain.shape: (60000, 28, 28)\n"
          ]
        }
      ]
    },
    {
      "cell_type": "code",
      "source": [
        "#Building the model\n",
        "model=tf.keras.models.Sequential([\n",
        "    tf.keras.layers.Flatten(input_shape=(28,28)),\n",
        "    tf.keras.layers.Dense(128, activation='relu'),\n",
        "    tf.keras.layers.Dropout(0.2),\n",
        "    tf.keras.layers.Dense(10, activation='softmax')\n",
        "])"
      ],
      "metadata": {
        "id": "QpmnUiYN6-KR"
      },
      "execution_count": null,
      "outputs": []
    },
    {
      "cell_type": "code",
      "source": [
        "model.compile(optimizer='adam',loss='sparse_categorical_crossentropy',metrics=['accuracy'])"
      ],
      "metadata": {
        "id": "Slp2Gqpb75O3"
      },
      "execution_count": null,
      "outputs": []
    },
    {
      "cell_type": "code",
      "source": [
        "#training the model\n",
        "t=model.fit(xtrain,ytrain,validation_data=(xtest,ytest),epochs=10)"
      ],
      "metadata": {
        "colab": {
          "base_uri": "https://localhost:8080/"
        },
        "id": "veaDPCf78P3o",
        "outputId": "d07af372-8ff4-4b85-8dc3-5de192572c58"
      },
      "execution_count": null,
      "outputs": [
        {
          "output_type": "stream",
          "name": "stdout",
          "text": [
            "Epoch 1/10\n",
            "1875/1875 [==============================] - 8s 3ms/step - loss: 0.2945 - accuracy: 0.9138 - val_loss: 0.1405 - val_accuracy: 0.9570\n",
            "Epoch 2/10\n",
            "1875/1875 [==============================] - 5s 3ms/step - loss: 0.1401 - accuracy: 0.9576 - val_loss: 0.1071 - val_accuracy: 0.9677\n",
            "Epoch 3/10\n",
            "1875/1875 [==============================] - 6s 3ms/step - loss: 0.1070 - accuracy: 0.9674 - val_loss: 0.0907 - val_accuracy: 0.9722\n",
            "Epoch 4/10\n",
            "1875/1875 [==============================] - 5s 3ms/step - loss: 0.0871 - accuracy: 0.9729 - val_loss: 0.0820 - val_accuracy: 0.9744\n",
            "Epoch 5/10\n",
            "1875/1875 [==============================] - 5s 3ms/step - loss: 0.0755 - accuracy: 0.9764 - val_loss: 0.0759 - val_accuracy: 0.9774\n",
            "Epoch 6/10\n",
            "1875/1875 [==============================] - 6s 3ms/step - loss: 0.0641 - accuracy: 0.9796 - val_loss: 0.0738 - val_accuracy: 0.9777\n",
            "Epoch 7/10\n",
            "1875/1875 [==============================] - 5s 3ms/step - loss: 0.0573 - accuracy: 0.9818 - val_loss: 0.0700 - val_accuracy: 0.9801\n",
            "Epoch 8/10\n",
            "1875/1875 [==============================] - 6s 3ms/step - loss: 0.0514 - accuracy: 0.9829 - val_loss: 0.0730 - val_accuracy: 0.9787\n",
            "Epoch 9/10\n",
            "1875/1875 [==============================] - 5s 3ms/step - loss: 0.0491 - accuracy: 0.9837 - val_loss: 0.0750 - val_accuracy: 0.9785\n",
            "Epoch 10/10\n",
            "1875/1875 [==============================] - 6s 3ms/step - loss: 0.0440 - accuracy: 0.9849 - val_loss: 0.0714 - val_accuracy: 0.9791\n"
          ]
        }
      ]
    },
    {
      "cell_type": "code",
      "source": [
        "import matplotlib.pyplot as plt\n",
        "plt.plot(t.history['loss'],label='loss')\n",
        "plt.plot(t.history['val_loss'],label='val_loss')\n",
        "plt.legend()"
      ],
      "metadata": {
        "colab": {
          "base_uri": "https://localhost:8080/",
          "height": 282
        },
        "id": "y_IR0uJI-oD3",
        "outputId": "40894cc6-b05e-4d7b-faa8-2449c66cd42f"
      },
      "execution_count": null,
      "outputs": [
        {
          "output_type": "execute_result",
          "data": {
            "text/plain": [
              "<matplotlib.legend.Legend at 0x7f72b8571a90>"
            ]
          },
          "metadata": {},
          "execution_count": 7
        },
        {
          "output_type": "display_data",
          "data": {
            "text/plain": [
              "<Figure size 432x288 with 1 Axes>"
            ],
            "image/png": "[encoded data removed]"
          },
          "metadata": {
            "needs_background": "light"
          }
        }
      ]
    },
    {
      "cell_type": "code",
      "source": [
        "plt.plot(t.history['accuracy'],label='accuracy')\n",
        "plt.plot(t.history['val_accuracy'],label='val_accuracy')\n",
        "plt.legend()"
      ],
      "metadata": {
        "colab": {
          "base_uri": "https://localhost:8080/",
          "height": 282
        },
        "id": "X6dFXY9r_XpA",
        "outputId": "c3e3b788-ba8e-4cde-ea24-973dee4bb24d"
      },
      "execution_count": null,
      "outputs": [
        {
          "output_type": "execute_result",
          "data": {
            "text/plain": [
              "<matplotlib.legend.Legend at 0x7f729bc616d0>"
            ]
          },
          "metadata": {},
          "execution_count": 8
        },
        {
          "output_type": "display_data",
          "data": {
            "text/plain": [
              "<Figure size 432x288 with 1 Axes>"
            ],
            "image/png": "[encoded data removed]"
          },
          "metadata": {
            "needs_background": "light"
          }
        }
      ]
    },
    {
      "cell_type": "code",
      "source": [
        "#Model Evaluation\n",
        "print(model.evaluate(xtest,ytest))"
      ],
      "metadata": {
        "colab": {
          "base_uri": "https://localhost:8080/"
        },
        "id": "1qbyshVy_vmm",
        "outputId": "bfd9d641-58d3-40fa-f6cf-b2515c5c8922"
      },
      "execution_count": null,
      "outputs": [
        {
          "output_type": "stream",
          "name": "stdout",
          "text": [
            "313/313 [==============================] - 1s 3ms/step - loss: 0.0714 - accuracy: 0.9791\n",
            "[0.07135886698961258, 0.9790999889373779]\n"
          ]
        }
      ]
    },
    {
      "cell_type": "code",
      "source": [
        "from sklearn.metrics import confusion_matrix"
      ],
      "metadata": {
        "id": "0QSF_YYAAChu"
      },
      "execution_count": null,
      "outputs": []
    },
    {
      "cell_type": "code",
      "source": [
        "pred=model.predict(xtest).argmax(axis=1)\n",
        "cm=confusion_matrix(ytest,pred)\n",
        "print(cm)"
      ],
      "metadata": {
        "colab": {
          "base_uri": "https://localhost:8080/"
        },
        "id": "8OvthrZSAOgU",
        "outputId": "2e68b02b-6fff-41ff-b4b0-abd6fb344df1"
      },
      "execution_count": null,
      "outputs": [
        {
          "output_type": "stream",
          "name": "stdout",
          "text": [
            "313/313 [==============================] - 1s 2ms/step\n",
            "[[ 971    0    2    1    0    1    3    1    1    0]\n",
            " [   0 1122    2    2    0    0    2    0    7    0]\n",
            " [   6    1 1007    6    2    1    2    1    6    0]\n",
            " [   0    0    2  997    0    2    0    3    2    4]\n",
            " [   0    0    3    0  955    0    8    3    2   11]\n",
            " [   4    0    0   14    1  861    4    0    7    1]\n",
            " [   2    2    0    1    1    3  945    0    4    0]\n",
            " [   1    4   14    4    2    0    0  995    3    5]\n",
            " [   6    0    5    6    4    1    0    0  951    1]\n",
            " [   2    4    1    6    3    1    0    4    1  987]]\n"
          ]
        }
      ]
    },
    {
      "cell_type": "code",
      "source": [
        "import numpy as np\n",
        "misclassified=np.where(pred!=ytest)[0]\n",
        "i=np.random.choice(misclassified)\n",
        "plt.imshow(xtest[i],cmap='gray')\n",
        "plt.title(\"True labe:%s Predicted:%s\"%(ytest[i],pred[i]))"
      ],
      "metadata": {
        "colab": {
          "base_uri": "https://localhost:8080/",
          "height": 298
        },
        "id": "GFyq29D0Ak1y",
        "outputId": "630f9604-76b0-409b-8811-362684fc62ea"
      },
      "execution_count": null,
      "outputs": [
        {
          "output_type": "execute_result",
          "data": {
            "text/plain": [
              "Text(0.5, 1.0, 'True labe:9 Predicted:1')"
            ]
          },
          "metadata": {},
          "execution_count": 14
        },
        {
          "output_type": "display_data",
          "data": {
            "text/plain": [
              "<Figure size 432x288 with 1 Axes>"
            ],
            "image/png": "[encoded data removed]"
          },
          "metadata": {
            "needs_background": "light"
          }
        }
      ]
    },
    {
      "cell_type": "code",
      "source": [],
      "metadata": {
        "id": "pmj4Fsf6CQqI"
      },
      "execution_count": null,
      "outputs": []
    }
  ]
}