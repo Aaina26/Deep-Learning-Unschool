{
  "nbformat": 4,
  "nbformat_minor": 0,
  "metadata": {
    "colab": {
      "provenance": [],
      "authorship_tag": "ABX9TyNsevpSBWVh1jL9lODyLviR",
      "include_colab_link": true
    },
    "kernelspec": {
      "name": "python3",
      "display_name": "Python 3"
    },
    "language_info": {
      "name": "python"
    },
    "accelerator": "GPU",
    "gpuClass": "standard"
  },
  "cells": [
    {
      "cell_type": "markdown",
      "metadata": {
        "id": "view-in-github",
        "colab_type": "text"
      },
      "source": [
        "<a href=\"https://colab.research.google.com/github/Aaina26/Deep-Learning-Unschool/blob/main/Project_6_Image_reconstruction_using_Autoencoder.ipynb\" target=\"_parent\"><img src=\"https://colab.research.google.com/assets/colab-badge.svg\" alt=\"Open In Colab\"/></a>"
      ]
    },
    {
      "cell_type": "markdown",
      "source": [
        "**Vanilla Autoencoder**"
      ],
      "metadata": {
        "id": "efM4_xBagh42"
      }
    },
    {
      "cell_type": "code",
      "execution_count": 1,
      "metadata": {
        "id": "Vsn42cuBIqoh"
      },
      "outputs": [],
      "source": [
        "import tensorflow as tf\n",
        "from tensorflow.keras.layers import Dense, Input, Flatten, Reshape, LeakyReLU as LR, Activation, Dropout\n",
        "from tensorflow.keras.models import Model, Sequential\n",
        "import matplotlib.pyplot as plt\n",
        "import numpy as np\n",
        "from IPython import display"
      ]
    },
    {
      "cell_type": "code",
      "source": [
        "#loading data\n",
        "fashion_mnist=tf.keras.datasets.fashion_mnist\n",
        "(x_train,y_train),(x_test,y_test)=fashion_mnist.load_data()\n",
        "x_train,x_test=x_train/255.0,x_test/255.0 #normalize data\n",
        "print(\"x_train.shape\",x_train.shape)\n",
        "print(\"y_tarin.shape\",y_train.shape)"
      ],
      "metadata": {
        "colab": {
          "base_uri": "https://localhost:8080/"
        },
        "id": "HakdmztXKRVe",
        "outputId": "4a07d10c-d77a-47a8-d769-a0eb3edea587"
      },
      "execution_count": 2,
      "outputs": [
        {
          "output_type": "stream",
          "name": "stdout",
          "text": [
            "Downloading data from https://storage.googleapis.com/tensorflow/tf-keras-datasets/train-labels-idx1-ubyte.gz\n",
            "29515/29515 [==============================] - 0s 0us/step\n",
            "Downloading data from https://storage.googleapis.com/tensorflow/tf-keras-datasets/train-images-idx3-ubyte.gz\n",
            "26421880/26421880 [==============================] - 1s 0us/step\n",
            "Downloading data from https://storage.googleapis.com/tensorflow/tf-keras-datasets/t10k-labels-idx1-ubyte.gz\n",
            "5148/5148 [==============================] - 0s 0us/step\n",
            "Downloading data from https://storage.googleapis.com/tensorflow/tf-keras-datasets/t10k-images-idx3-ubyte.gz\n",
            "4422102/4422102 [==============================] - 0s 0us/step\n",
            "x_train.shape (60000, 28, 28)\n",
            "y_tarin.shape (60000,)\n"
          ]
        }
      ]
    },
    {
      "cell_type": "code",
      "source": [
        "LATENT_SIZE=31"
      ],
      "metadata": {
        "id": "gNsVm8trL4cq"
      },
      "execution_count": 3,
      "outputs": []
    },
    {
      "cell_type": "code",
      "source": [
        "#build encoder\n",
        "encoder=Sequential([\n",
        "    Flatten(input_shape=(28,28)),\n",
        "    Dense(512),\n",
        "    LR(),\n",
        "    Dropout(0.5),\n",
        "    Dense(256),\n",
        "    LR(),\n",
        "    Dropout(0.5),\n",
        "    Dense(64),\n",
        "    LR(),\n",
        "    Dropout(0.5),\n",
        "    Dense(LATENT_SIZE),\n",
        "    LR()\n",
        "])"
      ],
      "metadata": {
        "id": "7Xn1SttqMRk6"
      },
      "execution_count": 4,
      "outputs": []
    },
    {
      "cell_type": "code",
      "source": [
        "#DECODER\n",
        "decoder=Sequential([\n",
        "    Dense(64,input_shape=(LATENT_SIZE,)),\n",
        "    LR(),\n",
        "    Dropout(0.5),\n",
        "    Dense(128),\n",
        "    LR(),\n",
        "    Dropout(0.5),\n",
        "    Dense(256),\n",
        "    LR(),\n",
        "    Dropout(0.5),\n",
        "    Dense(512),\n",
        "    LR(),\n",
        "    Dropout(0.5),\n",
        "    Dense(784), #TO GET 28*28 FEATURES\n",
        "    Activation(\"sigmoid\"),\n",
        "    Reshape((28,28))\n",
        "])"
      ],
      "metadata": {
        "id": "k-KKOudjNcqo"
      },
      "execution_count": 5,
      "outputs": []
    },
    {
      "cell_type": "code",
      "source": [
        "img=Input(shape=(28,28))\n"
      ],
      "metadata": {
        "id": "DyX-PAKjOraQ"
      },
      "execution_count": 6,
      "outputs": []
    },
    {
      "cell_type": "code",
      "source": [
        "latent_vector=encoder(img)\n",
        "output=decoder(latent_vector)\n"
      ],
      "metadata": {
        "id": "4A-osfjVPSnb"
      },
      "execution_count": 7,
      "outputs": []
    },
    {
      "cell_type": "code",
      "source": [
        "model=Model(inputs=img,outputs=output)\n",
        "model.compile(\"nadam\",loss=\"binary_crossentropy\")"
      ],
      "metadata": {
        "id": "dZjgznPHPfAQ"
      },
      "execution_count": 8,
      "outputs": []
    },
    {
      "cell_type": "code",
      "source": [
        "autoencoder_train=model.fit(x_train, x_train, epochs=60)"
      ],
      "metadata": {
        "colab": {
          "base_uri": "https://localhost:8080/"
        },
        "id": "fBjgbqqbP7-i",
        "outputId": "11f25a05-1338-4833-aa19-abc12e33a32f"
      },
      "execution_count": 9,
      "outputs": [
        {
          "output_type": "stream",
          "name": "stdout",
          "text": [
            "Epoch 1/60\n",
            "1875/1875 [==============================] - 18s 5ms/step - loss: 0.3909\n",
            "Epoch 2/60\n",
            "1875/1875 [==============================] - 10s 5ms/step - loss: 0.3619\n",
            "Epoch 3/60\n",
            "1875/1875 [==============================] - 10s 5ms/step - loss: 0.3554\n",
            "Epoch 4/60\n",
            "1875/1875 [==============================] - 10s 5ms/step - loss: 0.3514\n",
            "Epoch 5/60\n",
            "1875/1875 [==============================] - 10s 5ms/step - loss: 0.3492\n",
            "Epoch 6/60\n",
            "1875/1875 [==============================] - 9s 5ms/step - loss: 0.3477\n",
            "Epoch 7/60\n",
            "1875/1875 [==============================] - 10s 5ms/step - loss: 0.3468\n",
            "Epoch 8/60\n",
            "1875/1875 [==============================] - 10s 5ms/step - loss: 0.3461\n",
            "Epoch 9/60\n",
            "1875/1875 [==============================] - 10s 5ms/step - loss: 0.3454\n",
            "Epoch 10/60\n",
            "1875/1875 [==============================] - 10s 5ms/step - loss: 0.3452\n",
            "Epoch 11/60\n",
            "1875/1875 [==============================] - 9s 5ms/step - loss: 0.3448\n",
            "Epoch 12/60\n",
            "1875/1875 [==============================] - 10s 5ms/step - loss: 0.3447\n",
            "Epoch 13/60\n",
            "1875/1875 [==============================] - 12s 6ms/step - loss: 0.3444\n",
            "Epoch 14/60\n",
            "1875/1875 [==============================] - 13s 7ms/step - loss: 0.3441\n",
            "Epoch 15/60\n",
            "1875/1875 [==============================] - 14s 8ms/step - loss: 0.3439\n",
            "Epoch 16/60\n",
            "1875/1875 [==============================] - 12s 7ms/step - loss: 0.3438\n",
            "Epoch 17/60\n",
            "1875/1875 [==============================] - 10s 5ms/step - loss: 0.3441\n",
            "Epoch 18/60\n",
            "1875/1875 [==============================] - 11s 6ms/step - loss: 0.3437\n",
            "Epoch 19/60\n",
            "1875/1875 [==============================] - 10s 5ms/step - loss: 0.3436\n",
            "Epoch 20/60\n",
            "1875/1875 [==============================] - 11s 6ms/step - loss: 0.3435\n",
            "Epoch 21/60\n",
            "1875/1875 [==============================] - 13s 7ms/step - loss: 0.3434\n",
            "Epoch 22/60\n",
            "1875/1875 [==============================] - 15s 8ms/step - loss: 0.3432\n",
            "Epoch 23/60\n",
            "1875/1875 [==============================] - 12s 7ms/step - loss: 0.3433\n",
            "Epoch 24/60\n",
            "1875/1875 [==============================] - 11s 6ms/step - loss: 0.3433\n",
            "Epoch 25/60\n",
            "1875/1875 [==============================] - 10s 6ms/step - loss: 0.3431\n",
            "Epoch 26/60\n",
            "1875/1875 [==============================] - 12s 6ms/step - loss: 0.3432\n",
            "Epoch 27/60\n",
            "1875/1875 [==============================] - 13s 7ms/step - loss: 0.3430\n",
            "Epoch 28/60\n",
            "1875/1875 [==============================] - 13s 7ms/step - loss: 0.3433\n",
            "Epoch 29/60\n",
            "1875/1875 [==============================] - 10s 5ms/step - loss: 0.3430\n",
            "Epoch 30/60\n",
            "1875/1875 [==============================] - 10s 5ms/step - loss: 0.3431\n",
            "Epoch 31/60\n",
            "1875/1875 [==============================] - 10s 5ms/step - loss: 0.3430\n",
            "Epoch 32/60\n",
            "1875/1875 [==============================] - 10s 5ms/step - loss: 0.3430\n",
            "Epoch 33/60\n",
            "1875/1875 [==============================] - 10s 5ms/step - loss: 0.3429\n",
            "Epoch 34/60\n",
            "1875/1875 [==============================] - 10s 5ms/step - loss: 0.3429\n",
            "Epoch 35/60\n",
            "1875/1875 [==============================] - 10s 5ms/step - loss: 0.3428\n",
            "Epoch 36/60\n",
            "1875/1875 [==============================] - 10s 5ms/step - loss: 0.3429\n",
            "Epoch 37/60\n",
            "1875/1875 [==============================] - 10s 5ms/step - loss: 0.3428\n",
            "Epoch 38/60\n",
            "1875/1875 [==============================] - 10s 5ms/step - loss: 0.3427\n",
            "Epoch 39/60\n",
            "1875/1875 [==============================] - 10s 5ms/step - loss: 0.3426\n",
            "Epoch 40/60\n",
            "1875/1875 [==============================] - 10s 5ms/step - loss: 0.3426\n",
            "Epoch 41/60\n",
            "1875/1875 [==============================] - 10s 5ms/step - loss: 0.3426\n",
            "Epoch 42/60\n",
            "1875/1875 [==============================] - 10s 5ms/step - loss: 0.3422\n",
            "Epoch 43/60\n",
            "1875/1875 [==============================] - 10s 5ms/step - loss: 0.3427\n",
            "Epoch 44/60\n",
            "1875/1875 [==============================] - 10s 5ms/step - loss: 0.3423\n",
            "Epoch 45/60\n",
            "1875/1875 [==============================] - 10s 5ms/step - loss: 0.3424\n",
            "Epoch 46/60\n",
            "1875/1875 [==============================] - 10s 6ms/step - loss: 0.3424\n",
            "Epoch 47/60\n",
            "1875/1875 [==============================] - 11s 6ms/step - loss: 0.3424\n",
            "Epoch 48/60\n",
            "1875/1875 [==============================] - 10s 5ms/step - loss: 0.3426\n",
            "Epoch 49/60\n",
            "1875/1875 [==============================] - 10s 5ms/step - loss: 0.3423\n",
            "Epoch 50/60\n",
            "1875/1875 [==============================] - 10s 5ms/step - loss: 0.3422\n",
            "Epoch 51/60\n",
            "1875/1875 [==============================] - 10s 5ms/step - loss: 0.3423\n",
            "Epoch 52/60\n",
            "1875/1875 [==============================] - 10s 5ms/step - loss: 0.3423\n",
            "Epoch 53/60\n",
            "1875/1875 [==============================] - 10s 5ms/step - loss: 0.3426\n",
            "Epoch 54/60\n",
            "1875/1875 [==============================] - 10s 6ms/step - loss: 0.3424\n",
            "Epoch 55/60\n",
            "1875/1875 [==============================] - 10s 5ms/step - loss: 0.3423\n",
            "Epoch 56/60\n",
            "1875/1875 [==============================] - 10s 5ms/step - loss: 0.3421\n",
            "Epoch 57/60\n",
            "1875/1875 [==============================] - 10s 5ms/step - loss: 0.3423\n",
            "Epoch 58/60\n",
            "1875/1875 [==============================] - 10s 5ms/step - loss: 0.3424\n",
            "Epoch 59/60\n",
            "1875/1875 [==============================] - 10s 5ms/step - loss: 0.3425\n",
            "Epoch 60/60\n",
            "1875/1875 [==============================] - 10s 5ms/step - loss: 0.3421\n"
          ]
        }
      ]
    },
    {
      "cell_type": "code",
      "source": [
        "#plot randomly predicted images\n",
        "#more number of epochs, less blurring\n",
        "fig, axs=plt.subplots(5,5)\n",
        "rand=x_test[np.random.randint(0, 10000,25)].reshape((5,5,1,28,28))\n",
        "for i in range(5):\n",
        "  for j in range(5):\n",
        "    axs[i,j].imshow(model.predict(rand[i,j])[0],cmap='gray')\n",
        "    axs[i,j].axis(\"off\")\n",
        "\n",
        "plt.subplots_adjust(wspace=0,hspace=0)\n",
        "plt.show()"
      ],
      "metadata": {
        "colab": {
          "base_uri": "https://localhost:8080/",
          "height": 682
        },
        "id": "vRvulsJsSiCI",
        "outputId": "129dd239-65f1-44aa-a1ef-c28ec66d2b03"
      },
      "execution_count": 13,
      "outputs": [
        {
          "output_type": "stream",
          "name": "stdout",
          "text": [
            "1/1 [==============================] - 0s 24ms/step\n",
            "1/1 [==============================] - 0s 22ms/step\n",
            "1/1 [==============================] - 0s 22ms/step\n",
            "1/1 [==============================] - 0s 22ms/step\n",
            "1/1 [==============================] - 0s 22ms/step\n",
            "1/1 [==============================] - 0s 22ms/step\n",
            "1/1 [==============================] - 0s 22ms/step\n",
            "1/1 [==============================] - 0s 24ms/step\n",
            "1/1 [==============================] - 0s 22ms/step\n",
            "1/1 [==============================] - 0s 21ms/step\n",
            "1/1 [==============================] - 0s 21ms/step\n",
            "1/1 [==============================] - 0s 20ms/step\n",
            "1/1 [==============================] - 0s 21ms/step\n",
            "1/1 [==============================] - 0s 21ms/step\n",
            "1/1 [==============================] - 0s 24ms/step\n",
            "1/1 [==============================] - 0s 30ms/step\n",
            "1/1 [==============================] - 0s 22ms/step\n",
            "1/1 [==============================] - 0s 23ms/step\n",
            "1/1 [==============================] - 0s 21ms/step\n",
            "1/1 [==============================] - 0s 22ms/step\n",
            "1/1 [==============================] - 0s 21ms/step\n",
            "1/1 [==============================] - 0s 24ms/step\n",
            "1/1 [==============================] - 0s 23ms/step\n",
            "1/1 [==============================] - 0s 22ms/step\n",
            "1/1 [==============================] - 0s 23ms/step\n"
          ]
        },
        {
          "output_type": "display_data",
          "data": {
            "text/plain": [
              "<Figure size 432x288 with 25 Axes>"
            ],
            "image/png": "[encoded data removed]"
          },
          "metadata": {
            "needs_background": "light"
          }
        }
      ]
    },
    {
      "cell_type": "code",
      "source": [
        "loss=autoencoder_train.history['loss']\n",
        "epochs=range(60)\n",
        "plt.figure()\n",
        "plt.plot(epochs,loss,'bo',label='Training loss')\n",
        "plt.title('Training loss')\n",
        "plt.legend()\n",
        "plt.show()"
      ],
      "metadata": {
        "colab": {
          "base_uri": "https://localhost:8080/",
          "height": 281
        },
        "id": "Q3ckDS-jUDsS",
        "outputId": "4ede3a84-0b69-495e-84e3-3204624dc5ee"
      },
      "execution_count": 14,
      "outputs": [
        {
          "output_type": "display_data",
          "data": {
            "text/plain": [
              "<Figure size 432x288 with 1 Axes>"
            ],
            "image/png": "[encoded data removed]"
          },
          "metadata": {
            "needs_background": "light"
          }
        }
      ]
    },
    {
      "cell_type": "markdown",
      "source": [
        "**Convolutional Autoencoder**"
      ],
      "metadata": {
        "id": "7LT1olnrgMju"
      }
    },
    {
      "cell_type": "code",
      "source": [
        "batch_size=128\n",
        "epochs=50\n",
        "inChannel=1\n",
        "x, y=28,28\n",
        "input_img=Input(shape=(x,y,inChannel))\n"
      ],
      "metadata": {
        "id": "tLmjcAG0gu-N"
      },
      "execution_count": 15,
      "outputs": []
    },
    {
      "cell_type": "code",
      "source": [
        "from sklearn.model_selection import train_test_split\n",
        "train_data=x_train\n",
        "train_x,valid_x,train_ground,valid_ground=train_test_split(train_data,train_data,test_size=0.2,random_state=0)"
      ],
      "metadata": {
        "id": "oMfcqMkShMOZ"
      },
      "execution_count": 16,
      "outputs": []
    },
    {
      "cell_type": "code",
      "source": [
        "from tensorflow.keras.layers import Conv2D,MaxPooling2D,UpSampling2D\n",
        "def autoencoder(input_img):\n",
        "  #encoder\n",
        "  conv1=Conv2D(32,(3,3),activation='relu',padding='same')(input_img)\n",
        "  pool1=MaxPooling2D(pool_size=(2,2))(conv1)\n",
        "  conv2=Conv2D(64,(3,3),activation='relu',padding='same')(pool1)\n",
        "  pool2=MaxPooling2D(pool_size=(2,2))(conv2)\n",
        "  conv3=Conv2D(128,(3,3),activation='relu',padding='same')(pool2)\n",
        "  #decoder\n",
        "  conv4=Conv2D(128,(3,3),activation='relu',padding='same')(conv3)\n",
        "  up1=UpSampling2D((2,2))(conv4)\n",
        "  conv5=Conv2D(64,(3,3),activation='relu',padding='same')(up1)\n",
        "  up2=UpSampling2D((2,2))(conv5)\n",
        "  decoded=Conv2D(1,(3,3),activation='sigmoid',padding='same')(up2)\n",
        "  return decoded\n"
      ],
      "metadata": {
        "id": "1ov15COWjgYV"
      },
      "execution_count": 17,
      "outputs": []
    },
    {
      "cell_type": "code",
      "source": [
        "from keras.optimizers import RMSprop\n",
        "autoencoder=Model(input_img,autoencoder(input_img))\n",
        "autoencoder.compile(loss='mean_squared_error',optimizer=RMSprop())"
      ],
      "metadata": {
        "id": "Ko1PadK2mHxH"
      },
      "execution_count": 18,
      "outputs": []
    },
    {
      "cell_type": "code",
      "source": [
        "autoencoder_train=autoencoder.fit(train_x,train_ground,batch_size=batch_size,epochs=epochs,verbose=1,validation_data=(valid_x,valid_ground))"
      ],
      "metadata": {
        "colab": {
          "base_uri": "https://localhost:8080/"
        },
        "id": "dc72k5Ovm0w7",
        "outputId": "03776da0-86a9-44d1-a957-6b6cc6a06177"
      },
      "execution_count": 19,
      "outputs": [
        {
          "output_type": "stream",
          "name": "stdout",
          "text": [
            "Epoch 1/50\n",
            "375/375 [==============================] - 11s 13ms/step - loss: 0.0230 - val_loss: 0.0118\n",
            "Epoch 2/50\n",
            "375/375 [==============================] - 5s 12ms/step - loss: 0.0095 - val_loss: 0.0072\n",
            "Epoch 3/50\n",
            "375/375 [==============================] - 5s 13ms/step - loss: 0.0072 - val_loss: 0.0061\n",
            "Epoch 4/50\n",
            "375/375 [==============================] - 5s 13ms/step - loss: 0.0059 - val_loss: 0.0048\n",
            "Epoch 5/50\n",
            "375/375 [==============================] - 5s 13ms/step - loss: 0.0051 - val_loss: 0.0048\n",
            "Epoch 6/50\n",
            "375/375 [==============================] - 5s 12ms/step - loss: 0.0046 - val_loss: 0.0040\n",
            "Epoch 7/50\n",
            "375/375 [==============================] - 5s 12ms/step - loss: 0.0042 - val_loss: 0.0043\n",
            "Epoch 8/50\n",
            "375/375 [==============================] - 5s 12ms/step - loss: 0.0039 - val_loss: 0.0036\n",
            "Epoch 9/50\n",
            "375/375 [==============================] - 4s 12ms/step - loss: 0.0037 - val_loss: 0.0037\n",
            "Epoch 10/50\n",
            "375/375 [==============================] - 5s 12ms/step - loss: 0.0035 - val_loss: 0.0034\n",
            "Epoch 11/50\n",
            "375/375 [==============================] - 5s 12ms/step - loss: 0.0033 - val_loss: 0.0032\n",
            "Epoch 12/50\n",
            "375/375 [==============================] - 4s 12ms/step - loss: 0.0032 - val_loss: 0.0028\n",
            "Epoch 13/50\n",
            "375/375 [==============================] - 5s 13ms/step - loss: 0.0031 - val_loss: 0.0033\n",
            "Epoch 14/50\n",
            "375/375 [==============================] - 4s 12ms/step - loss: 0.0030 - val_loss: 0.0029\n",
            "Epoch 15/50\n",
            "375/375 [==============================] - 4s 12ms/step - loss: 0.0029 - val_loss: 0.0031\n",
            "Epoch 16/50\n",
            "375/375 [==============================] - 5s 13ms/step - loss: 0.0029 - val_loss: 0.0028\n",
            "Epoch 17/50\n",
            "375/375 [==============================] - 5s 13ms/step - loss: 0.0028 - val_loss: 0.0031\n",
            "Epoch 18/50\n",
            "375/375 [==============================] - 5s 12ms/step - loss: 0.0027 - val_loss: 0.0028\n",
            "Epoch 19/50\n",
            "375/375 [==============================] - 6s 16ms/step - loss: 0.0027 - val_loss: 0.0030\n",
            "Epoch 20/50\n",
            "375/375 [==============================] - 5s 15ms/step - loss: 0.0026 - val_loss: 0.0028\n",
            "Epoch 21/50\n",
            "375/375 [==============================] - 5s 13ms/step - loss: 0.0026 - val_loss: 0.0024\n",
            "Epoch 22/50\n",
            "375/375 [==============================] - 5s 12ms/step - loss: 0.0026 - val_loss: 0.0023\n",
            "Epoch 23/50\n",
            "375/375 [==============================] - 5s 14ms/step - loss: 0.0025 - val_loss: 0.0028\n",
            "Epoch 24/50\n",
            "375/375 [==============================] - 5s 13ms/step - loss: 0.0025 - val_loss: 0.0024\n",
            "Epoch 25/50\n",
            "375/375 [==============================] - 5s 14ms/step - loss: 0.0024 - val_loss: 0.0025\n",
            "Epoch 26/50\n",
            "375/375 [==============================] - 6s 16ms/step - loss: 0.0024 - val_loss: 0.0024\n",
            "Epoch 27/50\n",
            "375/375 [==============================] - 5s 12ms/step - loss: 0.0024 - val_loss: 0.0022\n",
            "Epoch 28/50\n",
            "375/375 [==============================] - 5s 13ms/step - loss: 0.0024 - val_loss: 0.0023\n",
            "Epoch 29/50\n",
            "375/375 [==============================] - 5s 12ms/step - loss: 0.0023 - val_loss: 0.0024\n",
            "Epoch 30/50\n",
            "375/375 [==============================] - 5s 14ms/step - loss: 0.0023 - val_loss: 0.0027\n",
            "Epoch 31/50\n",
            "375/375 [==============================] - 5s 14ms/step - loss: 0.0023 - val_loss: 0.0023\n",
            "Epoch 32/50\n",
            "375/375 [==============================] - 5s 13ms/step - loss: 0.0023 - val_loss: 0.0023\n",
            "Epoch 33/50\n",
            "375/375 [==============================] - 6s 15ms/step - loss: 0.0022 - val_loss: 0.0023\n",
            "Epoch 34/50\n",
            "375/375 [==============================] - 6s 16ms/step - loss: 0.0022 - val_loss: 0.0021\n",
            "Epoch 35/50\n",
            "375/375 [==============================] - 6s 15ms/step - loss: 0.0022 - val_loss: 0.0022\n",
            "Epoch 36/50\n",
            "375/375 [==============================] - 5s 13ms/step - loss: 0.0022 - val_loss: 0.0023\n",
            "Epoch 37/50\n",
            "375/375 [==============================] - 5s 12ms/step - loss: 0.0022 - val_loss: 0.0024\n",
            "Epoch 38/50\n",
            "375/375 [==============================] - 5s 12ms/step - loss: 0.0021 - val_loss: 0.0024\n",
            "Epoch 39/50\n",
            "375/375 [==============================] - 4s 12ms/step - loss: 0.0021 - val_loss: 0.0021\n",
            "Epoch 40/50\n",
            "375/375 [==============================] - 4s 12ms/step - loss: 0.0021 - val_loss: 0.0021\n",
            "Epoch 41/50\n",
            "375/375 [==============================] - 5s 12ms/step - loss: 0.0021 - val_loss: 0.0023\n",
            "Epoch 42/50\n",
            "375/375 [==============================] - 5s 12ms/step - loss: 0.0021 - val_loss: 0.0022\n",
            "Epoch 43/50\n",
            "375/375 [==============================] - 5s 12ms/step - loss: 0.0021 - val_loss: 0.0021\n",
            "Epoch 44/50\n",
            "375/375 [==============================] - 5s 13ms/step - loss: 0.0021 - val_loss: 0.0019\n",
            "Epoch 45/50\n",
            "375/375 [==============================] - 5s 12ms/step - loss: 0.0020 - val_loss: 0.0020\n",
            "Epoch 46/50\n",
            "375/375 [==============================] - 5s 12ms/step - loss: 0.0020 - val_loss: 0.0022\n",
            "Epoch 47/50\n",
            "375/375 [==============================] - 5s 12ms/step - loss: 0.0020 - val_loss: 0.0020\n",
            "Epoch 48/50\n",
            "375/375 [==============================] - 5s 12ms/step - loss: 0.0020 - val_loss: 0.0020\n",
            "Epoch 49/50\n",
            "375/375 [==============================] - 5s 13ms/step - loss: 0.0020 - val_loss: 0.0022\n",
            "Epoch 50/50\n",
            "375/375 [==============================] - 5s 12ms/step - loss: 0.0020 - val_loss: 0.0021\n"
          ]
        }
      ]
    },
    {
      "cell_type": "code",
      "source": [
        "loss=autoencoder_train.history['loss']\n",
        "val_loss=autoencoder_train.history['val_loss']\n",
        "epochs=range(50)\n",
        "plt.figure()\n",
        "plt.plot(epochs,loss,'bo',label='Training loss')\n",
        "plt.plot(epochs,val_loss,'b',label='Validation loss',color='red')\n",
        "plt.title('Training and validation loss')\n",
        "plt.legend()\n",
        "plt.show()"
      ],
      "metadata": {
        "colab": {
          "base_uri": "https://localhost:8080/",
          "height": 336
        },
        "id": "986WGWq_nf2a",
        "outputId": "0f2f8b66-4f2f-42e3-8fbb-97d4206c507c"
      },
      "execution_count": 24,
      "outputs": [
        {
          "output_type": "stream",
          "name": "stderr",
          "text": [
            "<ipython-input-24-7fe7b74e75a4>:6: UserWarning: color is redundantly defined by the 'color' keyword argument and the fmt string \"b\" (-> color=(0.0, 0.0, 1.0, 1)). The keyword argument will take precedence.\n",
            "  plt.plot(epochs,val_loss,'b',label='Validation loss',color='red')\n"
          ]
        },
        {
          "output_type": "display_data",
          "data": {
            "text/plain": [
              "<Figure size 432x288 with 1 Axes>"
            ],
            "image/png": "[encoded data removed]"
          },
          "metadata": {
            "needs_background": "light"
          }
        }
      ]
    },
    {
      "cell_type": "code",
      "source": [
        "#predict the images\n",
        "pred=autoencoder.predict(x_test)\n",
        "plt.figure(figsize=(20,4))\n",
        "print(\"Reconstruction of Test Images\")\n",
        "for i in range(10,20,1):\n",
        "  plt.subplot(2,10,i+1)\n",
        "  plt.imshow(pred[i, ..., 0],cmap='gray')\n",
        "plt.show()"
      ],
      "metadata": {
        "colab": {
          "base_uri": "https://localhost:8080/",
          "height": 180
        },
        "id": "M0V1FagKocVt",
        "outputId": "7bdab536-f24c-4a98-de67-755e27704d0a"
      },
      "execution_count": 25,
      "outputs": [
        {
          "output_type": "stream",
          "name": "stdout",
          "text": [
            "313/313 [==============================] - 1s 3ms/step\n",
            "Reconstruction of Test Images\n"
          ]
        },
        {
          "output_type": "display_data",
          "data": {
            "text/plain": [
              "<Figure size 1440x288 with 10 Axes>"
            ],
            "image/png": "[encoded data removed]"
          },
          "metadata": {
            "needs_background": "light"
          }
        }
      ]
    }
  ]
}